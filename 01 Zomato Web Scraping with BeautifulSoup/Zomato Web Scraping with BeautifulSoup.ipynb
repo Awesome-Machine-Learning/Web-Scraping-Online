{
 "cells": [
  {
   "cell_type": "markdown",
   "metadata": {},
   "source": [
    "---\n",
    "<h1 align='center' style=\"color:green\" margin=\"10\">Zomato Web Scrapping With BeautifulSoup</h1>\n",
    "\n",
    "---"
   ]
  },
  {
   "cell_type": "markdown",
   "metadata": {},
   "source": [
    "### The Data Science projects start with the collection of data. The data can be collected from the database, internet/online and offline mode. These days most of the information is available online and in order to extract that information Data Engineers/Data Scientists use Web Scraping. \n",
    "### we will learn about web scraping and how is it done in Python using openly available tools."
   ]
  },
  {
   "cell_type": "markdown",
   "metadata": {},
   "source": [
    "---\n",
    "## **1. Introduction**\n",
    "---"
   ]
  },
  {
   "cell_type": "markdown",
   "metadata": {},
   "source": [
    "### Wikipedia Definition: Web scraping, web harvesting, or web data extraction is data scraping used for extracting data from websites. Web scraping software may access the World Wide Web directly using the Hypertext Transfer Protocol or through a web browser. While web scraping can be done manually by a software user, the term typically refers to automated processes implemented using a bot or web crawler. It is a form of copying, in which specific data is gathered and copied from the web, typically into a central local database or spreadsheet, for later retrieval or analysis."
   ]
  },
  {
   "cell_type": "markdown",
   "metadata": {},
   "source": [
    "### we will extract the data for top restaurants in Bangalore(India) from Zomato website. The information will be accessed and read through HTML web pages. So, Let’s get started building a web scraper tool."
   ]
  },
  {
   "cell_type": "markdown",
   "metadata": {},
   "source": [
    "---\n",
    "## **2. Website Content: Access and Scrap**\n",
    "---"
   ]
  },
  {
   "cell_type": "markdown",
   "metadata": {},
   "source": [
    "### In order to open a website on our browser, we type the website address and submit an HTTP request to access the webpage. This displays a webpage on the browser if the request is a success else we get an error. In order to access the Zomato website page, we would need to submit the request in the same way.\n",
    "### We have a few tools available which allow us to access the website within Python."
   ]
  },
  {
   "cell_type": "markdown",
   "metadata": {},
   "source": [
    "### > Import libraries"
   ]
  },
  {
   "cell_type": "code",
   "execution_count": 1,
   "metadata": {},
   "outputs": [],
   "source": [
    "import requests\n",
    "import pandas as pd\n",
    "from bs4 import BeautifulSoup"
   ]
  },
  {
   "cell_type": "markdown",
   "metadata": {},
   "source": [
    "### Before we use these libraries and their functions to access the website, let’s try and understand their usage."
   ]
  },
  {
   "cell_type": "markdown",
   "metadata": {},
   "source": [
    "### ***@Requests***\n"
   ]
  },
  {
   "cell_type": "markdown",
   "metadata": {},
   "source": [
    "### It is designed to be used by humans to interact with the language. This means you don’t have to manually add query strings to URLs, or form-encode your POST data. Requests will allow you to send HTTP/1.1 requests using Python. With it, you can add content like headers, form data, multipart files, and parameters via simple Python libraries. It also allows you to access the response data of Python in the same way."
   ]
  },
  {
   "cell_type": "markdown",
   "metadata": {},
   "source": [
    "### ***@BS4 – BeautifulSoup***"
   ]
  },
  {
   "cell_type": "markdown",
   "metadata": {},
   "source": [
    "### Beautiful Soup is a Python library for pulling data out of HTML and XML files. It works with your favorite parser to provide idiomatic ways of navigating, searching and modifying the parse tree. It commonly saves programmers hours or days of work."
   ]
  },
  {
   "cell_type": "markdown",
   "metadata": {},
   "source": [
    "### Now that we know what these tools do, we can now try accessing the Zomato website."
   ]
  },
  {
   "cell_type": "code",
   "execution_count": 8,
   "metadata": {},
   "outputs": [],
   "source": [
    "# Used header/agent because the request was timed out  and asking for an agent\n",
    "# Using following code we can fake the agent.\n",
    "\n",
    "headers = {'User-Agent': 'Mozilla/5.0 (Macintosh; Intel Mac OS X 10_11_6) AppleWebKit/537.36 (KHTML, like Gecko) Chrome/61.0.3163.100 Safari/537.36'}\n",
    "response = requests.get(\"https://www.zomato.com/bangalore/top-restaurants\",headers=headers)"
   ]
  },
  {
   "cell_type": "markdown",
   "metadata": {},
   "source": [
    "### *Let’s try reading the content of the website as now we have successfully established the connection.*"
   ]
  },
  {
   "cell_type": "code",
   "execution_count": 12,
   "metadata": {},
   "outputs": [],
   "source": [
    "content=response.content\n",
    "#print(content)\n",
    "soup=BeautifulSoup(content,'html.parser')\n",
    "#print(soup)"
   ]
  },
  {
   "cell_type": "markdown",
   "metadata": {},
   "source": [
    "### The above code will first dump the content retrieve after accessing the website. The dumped content then will be passed to the BeautifulSoup function in order to get only the data with HTML/valid website tags that were used to develop the website."
   ]
  },
  {
   "cell_type": "markdown",
   "metadata": {},
   "source": [
    "---\n",
    "## **3. Top restaurants: Format the data**"
   ]
  },
  {
   "cell_type": "markdown",
   "metadata": {},
   "source": [
    "### We now have the data for a Top restaurant on Zomato, dumped into a variable. But is it in a readable format? Maybe for a computer scientist but not for all the people. Let’s try to format the scraped data."
   ]
  },
  {
   "cell_type": "markdown",
   "metadata": {},
   "source": [
    "### For this particular exercise, we are interested in extracting Restaurant’s Name, Restaurant’s Address and Type of Cuisine. In order to start looking for these details, we would need to find the HTML tags which store this information."
   ]
  },
  {
   "cell_type": "markdown",
   "metadata": {},
   "source": [
    "### Take a pause and look at the BeautifulSoup content above or you can use inspect on your Chrome Web Browser, you will be able to see which tag keeps the collection of top restaurant and other tags which has further details."
   ]
  },
  {
   "cell_type": "code",
   "execution_count": 19,
   "metadata": {},
   "outputs": [],
   "source": [
    "top_rest=soup.find_all(\"div\",attrs={\"class\":\"bb0 collections-grid col-l-16\"})\n",
    "# print(top_rest) \n",
    "list_tr=top_rest[0].find_all(\"div\",attrs={\"class\":\"col-s-8 col-l-1by3\"})\n",
    "# print(list_tr)"
   ]
  },
  {
   "cell_type": "markdown",
   "metadata": {},
   "source": [
    "### The above code will try to find all HTML div tags containing class equals to “col-s-8 col-l-1by3” and will return the collection/list of restaurants data. In order to extract the further information, we will need to access the list elements i.e. one restaurant information one by one using a loop.\n"
   ]
  },
  {
   "cell_type": "code",
   "execution_count": 23,
   "metadata": {},
   "outputs": [
    {
     "name": "stdout",
     "output_type": "stream",
     "text": [
      "[{'rest_name': '             Chapter One Bar | Maiin           ', 'rest_address': 'New BEL Road, Bangalore', 'cuisine_type': '           Continental, Italian, North Indian, Finger Food, Chinese, Mughlai         '}, {'rest_name': '             High Drate           ', 'rest_address': 'Uttarahalli, Bangalore', 'cuisine_type': '           Finger Food, North Indian, Chinese         '}, {'rest_name': '             Levitate Brewery and Kitchen           ', 'rest_address': 'JP Nagar, Bangalore', 'cuisine_type': '           Finger Food, North Indian, Continental         '}, {'rest_name': '             Sky Garden           ', 'rest_address': 'Whitefield, Bangalore', 'cuisine_type': '           North Indian, Asian, Continental, Italian         '}, {'rest_name': '             One For The Road           ', 'rest_address': 'Indiranagar, Bangalore', 'cuisine_type': '           North Indian, Fast Food, American, Continental         '}, {'rest_name': '             Angrezi - Bollywood Bar &...           ', 'rest_address': 'Church Street, Bangalore', 'cuisine_type': '           North Indian, Chinese, Fast Food, Finger Food         '}, {'rest_name': '             What the Ale?!           ', 'rest_address': 'Electronic City, Bangalore', 'cuisine_type': '           North Indian, Continental, Chinese         '}, {'rest_name': '             The Tilt Bar Republic           ', 'rest_address': 'Indiranagar, Bangalore', 'cuisine_type': '           North Indian, Continental, Italian         '}, {'rest_name': '             Punjabi Nawabi           ', 'rest_address': 'Jalahalli, Bangalore', 'cuisine_type': '           North Indian, Chinese, Biryani         '}, {'rest_name': '             21st Amendment Gastrobar           ', 'rest_address': 'Indiranagar, Bangalore', 'cuisine_type': '           North Indian, South Indian, Chinese, Fast Food, Mughlai         '}, {'rest_name': '             House of Troy           ', 'rest_address': 'Koramangala 7th Block, Bangalore', 'cuisine_type': '           Greek, Mediterranean         '}, {'rest_name': '             Tipsy Bull- The Bar Exchange           ', 'rest_address': 'Koramangala 5th Block, Bangalore', 'cuisine_type': '           North Indian, Chinese, Continental, Mexican         '}, {'rest_name': '             UDP Urban Deccan Pub           ', 'rest_address': 'Indiranagar, Bangalore', 'cuisine_type': '           Finger Food, South Indian, Pizza         '}, {'rest_name': '             Somara Cafe & Co-Works           ', 'rest_address': 'JP Nagar, Bangalore', 'cuisine_type': '           Cafe, Tea, Beverages         '}, {'rest_name': '             Cafe Rustico           ', 'rest_address': 'Brigade Road, Bangalore', 'cuisine_type': '           Chinese, Continental, Beverages, Fast Food         '}, {'rest_name': '             Le Grapes Restobar           ', 'rest_address': 'Rajajinagar, Bangalore', 'cuisine_type': '           Finger Food, North Indian, Chinese, Pizza         '}, {'rest_name': '             Plan B           ', 'rest_address': 'Marathahalli, Bangalore', 'cuisine_type': '           American, Chinese, BBQ, Steak         '}, {'rest_name': '             Hakuna Matata           ', 'rest_address': 'JP Nagar, Bangalore', 'cuisine_type': '           North Indian, Asian, Seafood, Chinese         '}, {'rest_name': '             Whattay Kitchen and Brew           ', 'rest_address': 'Kanakapura Road, Bangalore', 'cuisine_type': '           Finger Food, North Indian, Italian, Biryani, Desserts         '}, {'rest_name': '             Heartbreaker           ', 'rest_address': 'HSR, Bangalore', 'cuisine_type': '           Finger Food, North Indian, Asian, Continental, Mexican         '}, {'rest_name': '             Fat Owl           ', 'rest_address': 'JP Nagar, Bangalore', 'cuisine_type': '           Finger Food, American, Asian, Steak, North Indian, South Indian, Burger         '}, {'rest_name': '             Pathaan Sir           ', 'rest_address': 'Koramangala 7th Block, Bangalore', 'cuisine_type': '           Rolls, Fast Food         '}, {'rest_name': '             The Bangalore Street Club           ', 'rest_address': 'Lido Mall, Ulsoor, Bangalore', 'cuisine_type': '           South Indian, North Indian, Biryani, Street Food, Fast Food         '}, {'rest_name': '             Taco Bell           ', 'rest_address': 'Elements Mall, Nagawara, Bangalore', 'cuisine_type': '           Fast Food, Mexican, Wraps         '}, {'rest_name': '             Hotel Nalapaka           ', 'rest_address': 'Rajajinagar, Bangalore', 'cuisine_type': '           South Indian         '}, {'rest_name': '             Chef De Cuisine           ', 'rest_address': 'Kumaraswamy Layout, Bangalore', 'cuisine_type': '           Fast Food, North Indian         '}, {'rest_name': '             Banoffee Cafe           ', 'rest_address': 'HSR, Bangalore', 'cuisine_type': '           Cafe, Pizza, American, Thai, Fast Food         '}, {'rest_name': '             Nandini Deluxe           ', 'rest_address': 'Banaswadi, Bangalore', 'cuisine_type': '           Andhra, Chinese, North Indian, Seafood, Biryani         '}, {'rest_name': \"             Vinny's           \", 'rest_address': 'New BEL Road, Bangalore', 'cuisine_type': '           Pizza, Italian, Continental, Desserts         '}, {'rest_name': '             Grill Daddy           ', 'rest_address': 'Koramangala 7th Block, Bangalore', 'cuisine_type': '           Continental, American, Pizza, Burger, Cafe, Sandwich         '}]\n"
     ]
    }
   ],
   "source": [
    "list_rest=[]\n",
    "list_rest =[]\n",
    "for tr in list_tr:\n",
    "    dataframe ={}\n",
    "    dataframe[\"rest_name\"] = (tr.find(\"div\",attrs={\"class\": \"res_title zblack bold nowrap\"})).text.replace('\\n', ' ')\n",
    "    dataframe[\"rest_address\"] = (tr.find(\"div\",attrs={\"class\": \"nowrap grey-text fontsize5 ttupper\"})).text.replace('\\n', ' ')\n",
    "    dataframe[\"cuisine_type\"] = (tr.find(\"div\",attrs={\"class\":\"nowrap grey-text\"})).text.replace('\\n', ' ')\n",
    "    list_rest.append(dataframe)\n",
    "print(list_rest)"
   ]
  },
  {
   "cell_type": "markdown",
   "metadata": {},
   "source": [
    "### In the above code, tr will contain the different information about the restaurant like – Name, address,\n",
    "### Cuisine, prices, menu, reviews etc. Each information is stored in different tags and the tags can be found after looking at the tr(each element’s data).\n",
    "### Before finding the tags in the HTML dump, we should try and check how does the list of the restaurant actually look like on the website."
   ]
  },
  {
   "cell_type": "markdown",
   "metadata": {},
   "source": [
    "<img src=\"images/1.png\">"
   ]
  },
  {
   "cell_type": "markdown",
   "metadata": {},
   "source": [
    "### From above image, you can see that the information we want to extract for this exercise is displaying in different fonts or formats. Going back to the HTML dump/content we found that information is stored inside a div tag with classes defined as the type of fonts used or the used formats."
   ]
  },
  {
   "cell_type": "markdown",
   "metadata": {},
   "source": [
    "### We have defined a DataFrame to collect the required information. Restaurant Name is stored underclass – res_title zblack bold nowrap, Restaurant Address is stored underclass – nowrap grey-text fontsize5 ttupper and Cuisine type is stored under class – nowrap grey-text.\n"
   ]
  },
  {
   "cell_type": "markdown",
   "metadata": {},
   "source": [
    "### We will access this information one by one and store them into different DataFrame columns. We will also have to use few String function here because the HTML data uses \\n to separate the data and cannot be stored into the DataFrame. So, to avoid any errors – we can replace \\n with ”(space)."
   ]
  },
  {
   "cell_type": "markdown",
   "metadata": {},
   "source": [
    "### The output of above code will look something like this –"
   ]
  },
  {
   "cell_type": "markdown",
   "metadata": {},
   "source": [
    "<img src=\"images/2.png\">"
   ]
  },
  {
   "cell_type": "markdown",
   "metadata": {},
   "source": [
    "---\n",
    "## **4. Save Data in Human Readable format**"
   ]
  },
  {
   "cell_type": "markdown",
   "metadata": {},
   "source": [
    "### Thinking of giving above data to someone who does not know Python? Will they be able to read the data? Maybe not. We will save the data frame data to CSV format which is easily readable."
   ]
  },
  {
   "cell_type": "code",
   "execution_count": 30,
   "metadata": {},
   "outputs": [],
   "source": [
    "import pandas as pd\n",
    "df=pd.DataFrame(list_rest)\n",
    "df.to_csv(\"data/zomato_restaurant.csv\",index=False) # first create \"data\" folder in directory thn run this"
   ]
  },
  {
   "cell_type": "markdown",
   "metadata": {},
   "source": [
    "---\n",
    "## **5. Summary**"
   ]
  },
  {
   "cell_type": "markdown",
   "metadata": {},
   "source": [
    "### There, we saw how we can use request to access any website from a python code and use BeautifulSoup to extract the HTML content. After extracting the content we formatted it using data frame and later saved the data in CSV file. There was more information that can be retrieved from the website but this file was to find a restaurant, their address, and cuisine. Though the similar process can be used to scrap the data from other websites too."
   ]
  },
  {
   "cell_type": "code",
   "execution_count": null,
   "metadata": {},
   "outputs": [],
   "source": []
  }
 ],
 "metadata": {
  "kernelspec": {
   "display_name": "Python 3",
   "language": "python",
   "name": "python3"
  },
  "language_info": {
   "codemirror_mode": {
    "name": "ipython",
    "version": 3
   },
   "file_extension": ".py",
   "mimetype": "text/x-python",
   "name": "python",
   "nbconvert_exporter": "python",
   "pygments_lexer": "ipython3",
   "version": "3.6.8"
  }
 },
 "nbformat": 4,
 "nbformat_minor": 4
}
